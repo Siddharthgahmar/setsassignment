{
 "cells": [
  {
   "cell_type": "markdown",
   "id": "76c686e3-fbb5-4a62-91a8-885e0c2d91cd",
   "metadata": {},
   "source": [
    "Q1- What is a set in Python?\n",
    "Ans-A set is an unordered collection of unique elements.Sets are used when we want to store multiple order and ensure that each item appears only once. "
   ]
  },
  {
   "cell_type": "markdown",
   "id": "790b929d-e479-454c-8612-460e7ef0e12c",
   "metadata": {},
   "source": [
    "Q2-How do you create a set in python?\n",
    "Ans-"
   ]
  },
  {
   "cell_type": "code",
   "execution_count": 3,
   "id": "99fbd225-05ba-4754-82f9-dd913f5a1f0f",
   "metadata": {},
   "outputs": [
    {
     "name": "stdout",
     "output_type": "stream",
     "text": [
      "{1, 2, 3, 4, 5, 6, 7}\n"
     ]
    }
   ],
   "source": [
    "s={1,3,4,2,2,5,6,3,7,} #For creating sets we are using curly braces to stotr the element\n",
    "print(s)"
   ]
  },
  {
   "cell_type": "markdown",
   "id": "2b82041d-2803-4fb0-927f-bef81a660c10",
   "metadata": {},
   "source": [
    "Q3-How do you add elements to a set in python ?\n",
    "Ans-We can use "
   ]
  },
  {
   "cell_type": "code",
   "execution_count": 4,
   "id": "d53a030d-31ac-48df-8042-a849add2e781",
   "metadata": {},
   "outputs": [],
   "source": [
    "s={1,3,4,2,2,5,6,3,7,} #we can use add method to add element in sets\n",
    "s.add(8)\n"
   ]
  },
  {
   "cell_type": "code",
   "execution_count": 5,
   "id": "927dc0c5-1e6b-4918-9a7c-cb96012f5931",
   "metadata": {},
   "outputs": [
    {
     "data": {
      "text/plain": [
       "{1, 2, 3, 4, 5, 6, 7, 8}"
      ]
     },
     "execution_count": 5,
     "metadata": {},
     "output_type": "execute_result"
    }
   ],
   "source": [
    "s"
   ]
  },
  {
   "cell_type": "markdown",
   "id": "87faea6b-0eae-46f9-afeb-020638f0e9e2",
   "metadata": {},
   "source": [
    "Q4-How do you remove elements from a set in Python?\n",
    "Ans-"
   ]
  },
  {
   "cell_type": "code",
   "execution_count": 6,
   "id": "b30e0896-fe5c-444a-8c4c-1057283f4312",
   "metadata": {},
   "outputs": [],
   "source": [
    "s={1,3,4,2,2,5,6,3,7} #we can use remove method for deletind element from set\n",
    "s.remove(5)"
   ]
  },
  {
   "cell_type": "code",
   "execution_count": 7,
   "id": "5899efa1-4467-4e13-996c-a9f9d3b46b0f",
   "metadata": {},
   "outputs": [
    {
     "data": {
      "text/plain": [
       "{1, 2, 3, 4, 6, 7}"
      ]
     },
     "execution_count": 7,
     "metadata": {},
     "output_type": "execute_result"
    }
   ],
   "source": [
    "s"
   ]
  },
  {
   "cell_type": "code",
   "execution_count": null,
   "id": "fb424c29-1b99-4061-9bc9-497681f01d07",
   "metadata": {},
   "outputs": [],
   "source": [
    "Q5-How do you get the length of a set in python?\n",
    "Ans"
   ]
  },
  {
   "cell_type": "code",
   "execution_count": null,
   "id": "5671c973-9bb5-449e-9752-0de4a0065155",
   "metadata": {},
   "outputs": [],
   "source": []
  },
  {
   "cell_type": "code",
   "execution_count": null,
   "id": "581c97ea-99f1-4a99-b84b-646b3232b00c",
   "metadata": {},
   "outputs": [],
   "source": []
  },
  {
   "cell_type": "code",
   "execution_count": null,
   "id": "6fa1f79d-9dbd-42be-9c30-180e870db011",
   "metadata": {},
   "outputs": [],
   "source": []
  }
 ],
 "metadata": {
  "kernelspec": {
   "display_name": "Python 3 (ipykernel)",
   "language": "python",
   "name": "python3"
  },
  "language_info": {
   "codemirror_mode": {
    "name": "ipython",
    "version": 3
   },
   "file_extension": ".py",
   "mimetype": "text/x-python",
   "name": "python",
   "nbconvert_exporter": "python",
   "pygments_lexer": "ipython3",
   "version": "3.10.8"
  }
 },
 "nbformat": 4,
 "nbformat_minor": 5
}
